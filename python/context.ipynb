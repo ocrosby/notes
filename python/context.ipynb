{
 "cells": [
  {
   "cell_type": "raw",
   "id": "e5542508-09e1-4252-8eb7-3db40aad7cfb",
   "metadata": {},
   "source": [
    "Use context managers to help with resource usage"
   ]
  },
  {
   "cell_type": "code",
   "execution_count": 1,
   "id": "a5be63a8-f38b-4276-a018-d9b212fe6f4b",
   "metadata": {},
   "outputs": [
    {
     "name": "stdout",
     "output_type": "stream",
     "text": [
      "Hello World!\n"
     ]
    }
   ],
   "source": [
    "with open(\"example.txt\", \"r\") as file:\n",
    "    content = file.read()\n",
    "    print(content)"
   ]
  },
  {
   "cell_type": "raw",
   "id": "c4ae5a1b-9c1e-45be-9b55-5e8149454e94",
   "metadata": {},
   "source": [
    "Context managers can help manage external connections like databases, ensuring they close properly."
   ]
  },
  {
   "cell_type": "code",
   "execution_count": 2,
   "id": "6d007976-7d7b-498b-a77f-f16848df4978",
   "metadata": {},
   "outputs": [
    {
     "name": "stdout",
     "output_type": "stream",
     "text": [
      "[(1, 'Alice')]\n"
     ]
    }
   ],
   "source": [
    "import sqlite3\n",
    "\n",
    "with sqlite3.connect(\"example.db\") as conn:\n",
    "    cursor = conn.cursor()\n",
    "    cursor.execute(\"CREATE TABLE IF NOT EXISTS users (id INTEGER, name TEXT)\")\n",
    "    cursor.execute(\"INSERT INTO users (id, name) VALUES (1, 'Alice')\")\n",
    "    conn.commit()\n",
    "    cursor.execute(\"SELECT * FROM users\")\n",
    "    print(cursor.fetchall())\n",
    "\n",
    "# The connection is automatically closed at the end of the block."
   ]
  },
  {
   "cell_type": "raw",
   "id": "3e223faa-e0cf-41cb-8f38-415b2dbd3fb4",
   "metadata": {},
   "source": [
    "You can create your own context manager using generators with @contextmanager"
   ]
  },
  {
   "cell_type": "code",
   "execution_count": 3,
   "id": "5b2cb44d-29ec-4e96-9a32-7dc84b5b5486",
   "metadata": {},
   "outputs": [
    {
     "name": "stdout",
     "output_type": "stream",
     "text": [
      "Sum computed: 49999995000000\n",
      "Elapsed time: 0.12 seconds\n"
     ]
    }
   ],
   "source": [
    "import time\n",
    "from contextlib import contextmanager\n",
    "\n",
    "@contextmanager\n",
    "def timer():\n",
    "    start = time.time()\n",
    "    yield\n",
    "    end = time.time()\n",
    "    print(f\"Elapsed time: {end - start:.2f} seconds\")\n",
    "\n",
    "# Usage:\n",
    "with timer():\n",
    "    total = sum(range(10_000_000))\n",
    "    print(f\"Sum computed: {total}\")"
   ]
  },
  {
   "cell_type": "raw",
   "id": "f1753d43-5a8a-44c5-aa07-46ea8804be84",
   "metadata": {},
   "source": [
    "For more complex scenarios, implement the __enter__ and __exit__ methods directly in a class"
   ]
  },
  {
   "cell_type": "code",
   "execution_count": 5,
   "id": "f6b02011-fb93-434a-8b0f-d6a41afdf885",
   "metadata": {},
   "outputs": [
    {
     "name": "stdout",
     "output_type": "stream",
     "text": [
      "Resource acquired\n",
      "Using the resource\n",
      "Resource released\n"
     ]
    }
   ],
   "source": [
    "class CustomResource:\n",
    "    def __enter__(self):\n",
    "        print(\"Resource acquired\")\n",
    "        return self\n",
    "\n",
    "    def __exit__(self, exc_type, exc_value, traceback):\n",
    "        print(\"Resource released\")\n",
    "\n",
    "with CustomResource() as resource:\n",
    "    print(\"Using the resource\")"
   ]
  }
 ],
 "metadata": {
  "kernelspec": {
   "display_name": "Python 3 (ipykernel)",
   "language": "python",
   "name": "python3"
  },
  "language_info": {
   "codemirror_mode": {
    "name": "ipython",
    "version": 3
   },
   "file_extension": ".py",
   "mimetype": "text/x-python",
   "name": "python",
   "nbconvert_exporter": "python",
   "pygments_lexer": "ipython3",
   "version": "3.13.1"
  }
 },
 "nbformat": 4,
 "nbformat_minor": 5
}
