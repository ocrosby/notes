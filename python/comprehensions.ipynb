{
 "cells": [
  {
   "cell_type": "raw",
   "id": "7ea9ab48-4de9-49b6-96d1-8582ac2fe45a",
   "metadata": {},
   "source": [
    "Generating squares of even numbers:"
   ]
  },
  {
   "cell_type": "code",
   "execution_count": 3,
   "id": "0f3bb3d9-b98d-4821-9370-579f1b6503de",
   "metadata": {},
   "outputs": [
    {
     "name": "stdout",
     "output_type": "stream",
     "text": [
      "[0, 4, 16, 36, 64]\n"
     ]
    }
   ],
   "source": [
    "squares = [x**2 for x in range(10) if x % 2 == 0]\n",
    "print(squares)"
   ]
  },
  {
   "cell_type": "raw",
   "id": "d2659d0d-0100-40c9-b015-8995206ebed2",
   "metadata": {},
   "source": [
    "Mapping numbers to their cubes"
   ]
  },
  {
   "cell_type": "code",
   "execution_count": 4,
   "id": "4e6a4786-8434-4a1f-95e3-90f11e769bf5",
   "metadata": {},
   "outputs": [
    {
     "name": "stdout",
     "output_type": "stream",
     "text": [
      "{0: 0, 1: 1, 2: 8, 3: 27, 4: 64}\n"
     ]
    }
   ],
   "source": [
    "cubes = {x: x**3 for x in range(5)}\n",
    "print(cubes)"
   ]
  },
  {
   "cell_type": "raw",
   "id": "c5823ee4-d4b7-4b36-8ec5-55cfbf961ba0",
   "metadata": {},
   "source": [
    "Unique lengths of words (set comprehension):"
   ]
  },
  {
   "cell_type": "code",
   "execution_count": 6,
   "id": "33a01409-bc3c-404f-9bdd-36828aed87b1",
   "metadata": {},
   "outputs": [
    {
     "name": "stdout",
     "output_type": "stream",
     "text": [
      "{5, 6}\n"
     ]
    }
   ],
   "source": [
    "words = [\"hello\", \"world\", \"python\", \"hello\"]\n",
    "unique_lengths = {len(word) for word in words}\n",
    "print(unique_lengths)"
   ]
  },
  {
   "cell_type": "raw",
   "id": "8a5a9cce-4015-4e59-b56e-732f9006100e",
   "metadata": {},
   "source": [
    "Generators look like comprehensions but use parenthesis. They compute values lazily, making them memory-efficient."
   ]
  },
  {
   "cell_type": "code",
   "execution_count": 9,
   "id": "0ede5eea-963a-475c-a6d8-c2e9559ababd",
   "metadata": {},
   "outputs": [
    {
     "name": "stdout",
     "output_type": "stream",
     "text": [
      "0\n",
      "1\n",
      "4\n",
      "9\n",
      "16\n"
     ]
    }
   ],
   "source": [
    "squares_gen = (x**2 for x in range(5))\n",
    "for square in squares_gen:\n",
    "    print(square)"
   ]
  },
  {
   "cell_type": "raw",
   "id": "afcee698-8e31-4cf6-87c3-eb83b0c793ad",
   "metadata": {},
   "source": [
    "Comprehensions can be nested for multi-dimensional data processing"
   ]
  },
  {
   "cell_type": "code",
   "execution_count": 11,
   "id": "938d9ef3-f5d2-486c-8354-69abc1dd7b5e",
   "metadata": {},
   "outputs": [
    {
     "name": "stdout",
     "output_type": "stream",
     "text": [
      "[1, 2, 3, 4, 5, 6]\n"
     ]
    }
   ],
   "source": [
    "# Flattening a 2D list:\n",
    "matrix = [[1, 2,], [3, 4], [5, 6]]\n",
    "flattened = [num for row in matrix for num in row]\n",
    "print(flattened)"
   ]
  },
  {
   "cell_type": "code",
   "execution_count": null,
   "id": "3b89c5b6-0034-4c70-8e32-814a45cec85f",
   "metadata": {},
   "outputs": [],
   "source": []
  }
 ],
 "metadata": {
  "kernelspec": {
   "display_name": "Python 3 (ipykernel)",
   "language": "python",
   "name": "python3"
  },
  "language_info": {
   "codemirror_mode": {
    "name": "ipython",
    "version": 3
   },
   "file_extension": ".py",
   "mimetype": "text/x-python",
   "name": "python",
   "nbconvert_exporter": "python",
   "pygments_lexer": "ipython3",
   "version": "3.13.1"
  }
 },
 "nbformat": 4,
 "nbformat_minor": 5
}
