{
 "cells": [
  {
   "cell_type": "code",
   "execution_count": 2,
   "id": "3b5a93c2-d928-4a47-ade0-188816145cf6",
   "metadata": {},
   "outputs": [
    {
     "name": "stdout",
     "output_type": "stream",
     "text": [
      "Guido is an advanced Python programmer!\n"
     ]
    }
   ],
   "source": [
    "name = \"Guido\"\n",
    "level = \"advanced\"\n",
    "print(f\"{name} is an {level} Python programmer!\")"
   ]
  },
  {
   "cell_type": "raw",
   "id": "a20c3727-e304-4c0e-9fb5-8961dedc9d62",
   "metadata": {},
   "source": [
    "Combine expressions directly:"
   ]
  },
  {
   "cell_type": "code",
   "execution_count": 5,
   "id": "60c7f822-fb5b-4a02-bc9a-deb8ff42e93f",
   "metadata": {},
   "outputs": [
    {
     "name": "stdout",
     "output_type": "stream",
     "text": [
      "In 10 years, I will be 40 years old.\n"
     ]
    }
   ],
   "source": [
    "age = 30\n",
    "print(f\"In 10 years, I will be {age + 10} years old.\")"
   ]
  },
  {
   "cell_type": "raw",
   "id": "5a389078-d5a8-4ba6-a5b4-a503b3afbaf2",
   "metadata": {},
   "source": [
    "Use f-strings to format numbers with precision or in human-readable formats."
   ]
  },
  {
   "cell_type": "code",
   "execution_count": 8,
   "id": "d5bfc341-6620-49be-82de-06f1e641e02d",
   "metadata": {},
   "outputs": [
    {
     "name": "stdout",
     "output_type": "stream",
     "text": [
      "Pi rounded ot two decimals 3.14\n"
     ]
    }
   ],
   "source": [
    "pi = 3.14159\n",
    "print(f\"Pi rounded ot two decimals {pi:.2f}\")"
   ]
  },
  {
   "cell_type": "raw",
   "id": "fdec4014-f3c5-4510-a296-a27bdaf02e93",
   "metadata": {},
   "source": [
    "Add thousands separators:"
   ]
  },
  {
   "cell_type": "code",
   "execution_count": 10,
   "id": "2be167ab-6a30-4117-9617-34cb991c915b",
   "metadata": {},
   "outputs": [
    {
     "name": "stdout",
     "output_type": "stream",
     "text": [
      "Large number with commas: 123,456,789\n"
     ]
    }
   ],
   "source": [
    "large_number = 123456789\n",
    "print(f\"Large number with commas: {large_number:,}\")"
   ]
  },
  {
   "cell_type": "raw",
   "id": "b1adf33b-fa6b-4f9f-9a23-2a3993dfd0ba",
   "metadata": {},
   "source": [
    "Display percentages:"
   ]
  },
  {
   "cell_type": "code",
   "execution_count": 11,
   "id": "6b1222eb-b418-4b3c-a00f-34fb3194bab6",
   "metadata": {},
   "outputs": [
    {
     "name": "stdout",
     "output_type": "stream",
     "text": [
      "Success rate: 87.4%\n"
     ]
    }
   ],
   "source": [
    "success_rate = 0.874\n",
    "print(f\"Success rate: {success_rate:.1%}\")"
   ]
  },
  {
   "cell_type": "raw",
   "id": "bcf73667-ec7a-41d1-82a1-1e350a8bbf77",
   "metadata": {},
   "source": [
    "Use f-strings with datetime objects for cleaner formatting."
   ]
  },
  {
   "cell_type": "code",
   "execution_count": 14,
   "id": "5277803e-01b2-489c-be12-a478eecc7551",
   "metadata": {},
   "outputs": [
    {
     "name": "stdout",
     "output_type": "stream",
     "text": [
      "Current date: 2025-01-25\n",
      "Current time: 04:45:30\n"
     ]
    }
   ],
   "source": [
    "from datetime import datetime\n",
    "\n",
    "now = datetime.now()\n",
    "print(f\"Current date: {now:%Y-%m-%d}\")\n",
    "print(f\"Current time: {now:%H:%M:%S}\")"
   ]
  },
  {
   "cell_type": "raw",
   "id": "d92b55f1-01a5-4e5a-a1cf-054d76d16438",
   "metadata": {},
   "source": [
    "Align text for neatly formatted outputs:"
   ]
  },
  {
   "cell_type": "code",
   "execution_count": 15,
   "id": "1180816d-c954-49e7-b63d-492211f22f16",
   "metadata": {},
   "outputs": [
    {
     "name": "stdout",
     "output_type": "stream",
     "text": [
      "Python     is left-aligned\n",
      "    Python is right-aligned\n",
      "  Python   is centered\n"
     ]
    }
   ],
   "source": [
    "name = \"Python\"\n",
    "print(f\"{name:<10} is left-aligned\")\n",
    "print(f\"{name:>10} is right-aligned\")\n",
    "print(f\"{name:^10} is centered\")"
   ]
  },
  {
   "cell_type": "raw",
   "id": "9bf75691-ff43-4f25-bb1d-9f4bfac97f4e",
   "metadata": {},
   "source": [
    "F-strings support a debugging syntax that displays both the expression and it's result:"
   ]
  },
  {
   "cell_type": "code",
   "execution_count": 18,
   "id": "28fc4586-b25d-4663-b357-121b3fd544b1",
   "metadata": {},
   "outputs": [
    {
     "name": "stdout",
     "output_type": "stream",
     "text": [
      "42\n",
      "value=42\n",
      "value+30=72\n"
     ]
    }
   ],
   "source": [
    "value = 42\n",
    "print(f\"{value}\")\n",
    "print(f\"{value=}\")\n",
    "print(f\"{value+30=}\")\n"
   ]
  }
 ],
 "metadata": {
  "kernelspec": {
   "display_name": "Python 3 (ipykernel)",
   "language": "python",
   "name": "python3"
  },
  "language_info": {
   "codemirror_mode": {
    "name": "ipython",
    "version": 3
   },
   "file_extension": ".py",
   "mimetype": "text/x-python",
   "name": "python",
   "nbconvert_exporter": "python",
   "pygments_lexer": "ipython3",
   "version": "3.13.1"
  }
 },
 "nbformat": 4,
 "nbformat_minor": 5
}
