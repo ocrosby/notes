{
 "cells": [
  {
   "cell_type": "raw",
   "id": "81f1c8ed-5395-440e-9020-a6cf6bb57d15",
   "metadata": {},
   "source": [
    "min, max"
   ]
  },
  {
   "cell_type": "code",
   "execution_count": 5,
   "id": "2c52b306-1dc8-4818-bae5-a47f4554ec36",
   "metadata": {},
   "outputs": [
    {
     "name": "stdout",
     "output_type": "stream",
     "text": [
      "min=1\n",
      "max=5\n"
     ]
    }
   ],
   "source": [
    "numbers = [1, 2, 3, 4, 5]\n",
    "print(f\"min={min(numbers)}\")\n",
    "print(f\"max={max(numbers)}\")"
   ]
  },
  {
   "cell_type": "code",
   "execution_count": 6,
   "id": "a70369a4-506e-4679-8685-db1d554b5e10",
   "metadata": {},
   "outputs": [
    {
     "name": "stdout",
     "output_type": "stream",
     "text": [
      "rounded=2\n"
     ]
    }
   ],
   "source": [
    "print(f\"rounded={round(1.53)}\")"
   ]
  },
  {
   "cell_type": "raw",
   "id": "ef094df9-cc4f-4734-ae16-dd1ca06ae3a6",
   "metadata": {},
   "source": [
    "You can use enumerate to loop through an iterable while keeping track of the index"
   ]
  },
  {
   "cell_type": "code",
   "execution_count": 7,
   "id": "77531dd1-4c46-4e51-a4df-b9bb9fb72bab",
   "metadata": {},
   "outputs": [
    {
     "name": "stdout",
     "output_type": "stream",
     "text": [
      "1: apple\n",
      "2: banana\n",
      "3: cherry\n"
     ]
    }
   ],
   "source": [
    "items = ['apple', 'banana', 'cherry']\n",
    "for index, item in enumerate(items, start=1):\n",
    "    print(f\"{index}: {item}\")"
   ]
  },
  {
   "cell_type": "raw",
   "id": "ecd9857a-ce9a-4b39-8c00-1405bd8ca69d",
   "metadata": {},
   "source": [
    "Then there's zip, which combines two or more iterables element-wise, creating tuples:"
   ]
  },
  {
   "cell_type": "code",
   "execution_count": 8,
   "id": "baf256bf-8c3b-4e13-bed8-9e5f01df0105",
   "metadata": {},
   "outputs": [
    {
     "name": "stdout",
     "output_type": "stream",
     "text": [
      "Alice: 85\n",
      "Bob: 90\n",
      "Charlie: 95\n"
     ]
    }
   ],
   "source": [
    "names = ['Alice', 'Bob', 'Charlie']\n",
    "scores = [85, 90, 95]\n",
    "for name, score in zip(names, scores):\n",
    "    print(f\"{name}: {score}\")"
   ]
  },
  {
   "cell_type": "raw",
   "id": "ccbc01f6-37b1-4d80-ba2a-0322d38b6cb5",
   "metadata": {},
   "source": [
    "any and all are also quite useful\n",
    "any returns True if any elements in an iterable are \"truthy\" and False otherwise"
   ]
  },
  {
   "cell_type": "code",
   "execution_count": 9,
   "id": "81c89c8f-2db4-49df-90b2-1b5dd201bf74",
   "metadata": {},
   "outputs": [
    {
     "name": "stdout",
     "output_type": "stream",
     "text": [
      "True\n",
      "False\n"
     ]
    }
   ],
   "source": [
    "numbers = [1, 0, 3, 0]\n",
    "print(any(numbers))\n",
    "print(all(numbers))"
   ]
  },
  {
   "cell_type": "raw",
   "id": "66f47eb6-ff79-40c0-a687-66f088788d87",
   "metadata": {},
   "source": [
    "map transforms an iterable by applying a function to each element"
   ]
  },
  {
   "cell_type": "code",
   "execution_count": 11,
   "id": "42a30477-6e49-4d0c-ae0d-e20bad50dbe3",
   "metadata": {},
   "outputs": [
    {
     "name": "stdout",
     "output_type": "stream",
     "text": [
      "<map object at 0x106f24160>\n",
      "[1, 4, 9, 16]\n"
     ]
    }
   ],
   "source": [
    "numbers = [1, 2, 3, 4]\n",
    "squares = map(lambda x: x**2, numbers)\n",
    "print(squares)\n",
    "print(list(squares))"
   ]
  },
  {
   "cell_type": "raw",
   "id": "515a13c2-041a-4bd5-b74b-fd8365b2e3c9",
   "metadata": {},
   "source": [
    "Use filter to select elements based on a condition"
   ]
  },
  {
   "cell_type": "code",
   "execution_count": 15,
   "id": "0dcf0258-3384-498d-ac70-7da692f2bd26",
   "metadata": {},
   "outputs": [
    {
     "name": "stdout",
     "output_type": "stream",
     "text": [
      "<filter object at 0x106f25d20>\n",
      "[10, 20, 30]\n"
     ]
    }
   ],
   "source": [
    "numbers = [10, 15, 20, 25, 30]\n",
    "divisible_by_10 = filter(lambda x: x % 10 == 0, numbers)\n",
    "print(divisible_by_10)\n",
    "print(list(divisible_by_10))"
   ]
  },
  {
   "cell_type": "raw",
   "id": "3f679927-54ff-457e-896f-2d9763acc080",
   "metadata": {},
   "source": [
    "Use reversed to reverse an iterable without modifying it."
   ]
  },
  {
   "cell_type": "code",
   "execution_count": 17,
   "id": "45b6e1a7-6500-44ff-be6f-7f47a188288f",
   "metadata": {},
   "outputs": [
    {
     "name": "stdout",
     "output_type": "stream",
     "text": [
      "cherry\n",
      "banana\n",
      "apple\n",
      "['apple', 'banana', 'cherry']\n"
     ]
    }
   ],
   "source": [
    "items = ['apple', 'banana', 'cherry']\n",
    "for item in reversed(items):\n",
    "    print(item)\n",
    "print(items)"
   ]
  },
  {
   "cell_type": "raw",
   "id": "cdf8e6a9-26d6-4fb4-8180-326f106f57db",
   "metadata": {},
   "source": [
    "Did you know that min and max also work with custom keys?"
   ]
  },
  {
   "cell_type": "code",
   "execution_count": 18,
   "id": "9445101a-4132-4f41-92de-6e515996a92f",
   "metadata": {},
   "outputs": [
    {
     "name": "stdout",
     "output_type": "stream",
     "text": [
      "The longest word is banana with 6 characters.\n"
     ]
    }
   ],
   "source": [
    "words = ['apple', 'banana', 'cherry']\n",
    "longest_word = max(words, key=len)\n",
    "print(f\"The longest word is {longest_word} with {len(longest_word)} characters.\")"
   ]
  },
  {
   "cell_type": "raw",
   "id": "5e3a3e0a-0815-4112-8682-b91c2c070564",
   "metadata": {},
   "source": [
    "Use generators with the yield keyword to efficently generate values for large data sets."
   ]
  },
  {
   "cell_type": "code",
   "execution_count": 19,
   "id": "90b857ef-1285-401d-9269-b912e8101260",
   "metadata": {},
   "outputs": [
    {
     "name": "stdout",
     "output_type": "stream",
     "text": [
      "0\n",
      "1\n",
      "4\n",
      "9\n",
      "16\n"
     ]
    }
   ],
   "source": [
    "# A generator function that yields square numbers\n",
    "def square_numbers(limit: int):\n",
    "    for n in range(limit):\n",
    "        yield n * n\n",
    "\n",
    "# Use the generator function to compute values\n",
    "for square in square_numbers(5):\n",
    "    print(square)"
   ]
  },
  {
   "cell_type": "raw",
   "id": "8bd79730-d28b-4d5b-b773-7e82951643b5",
   "metadata": {},
   "source": [
    "Generators compute values lazily, meaning they only produce results when explicitly requested."
   ]
  },
  {
   "cell_type": "code",
   "execution_count": 24,
   "id": "b9225930-350c-4d26-9a87-d0f85ade88df",
   "metadata": {},
   "outputs": [
    {
     "name": "stdout",
     "output_type": "stream",
     "text": [
      "Fetching values on the fly:\n",
      "Computing square for: 0\n",
      "0\n",
      "Computing square for: 1\n",
      "1\n",
      "Computing square for: 2\n",
      "4\n"
     ]
    },
    {
     "ename": "StopIteration",
     "evalue": "",
     "output_type": "error",
     "traceback": [
      "\u001b[0;31m---------------------------------------------------------------------------\u001b[0m",
      "\u001b[0;31mStopIteration\u001b[0m                             Traceback (most recent call last)",
      "Cell \u001b[0;32mIn[24], line 18\u001b[0m\n\u001b[1;32m     16\u001b[0m \u001b[38;5;28mprint\u001b[39m(\u001b[38;5;28mnext\u001b[39m(gen)) \u001b[38;5;66;03m# Compute the square of 1\u001b[39;00m\n\u001b[1;32m     17\u001b[0m \u001b[38;5;28mprint\u001b[39m(\u001b[38;5;28mnext\u001b[39m(gen)) \u001b[38;5;66;03m# Compute the square of 2\u001b[39;00m\n\u001b[0;32m---> 18\u001b[0m \u001b[38;5;28mprint\u001b[39m(\u001b[38;5;28;43mnext\u001b[39;49m\u001b[43m(\u001b[49m\u001b[43mgen\u001b[49m\u001b[43m)\u001b[49m)\n",
      "\u001b[0;31mStopIteration\u001b[0m: "
     ]
    }
   ],
   "source": [
    "import time\n",
    "\n",
    "# A generator that computes the square of numbers with a delay\n",
    "def delayed_squares(limit: int):\n",
    "    for n in range(limit):\n",
    "        print(f\"Computing square for: {n}\")\n",
    "        time.sleep(1) # Simulate a delay in computation\n",
    "        yield n * n\n",
    "\n",
    "# Instantiate the generator\n",
    "gen = delayed_squares(3)\n",
    "\n",
    "# Step through the generator manually\n",
    "print(\"Fetching values on the fly:\")\n",
    "print(next(gen)) # Compute the square of 0\n",
    "print(next(gen)) # Compute the square of 1\n",
    "print(next(gen)) # Compute the square of 2"
   ]
  },
  {
   "cell_type": "raw",
   "id": "24d1e1e9-d8a4-4ec5-a26a-05341489c5e9",
   "metadata": {},
   "source": [
    "Note that if you call next on gen another time beyond the range of the instantiated generator it will raise a StopIteration exception."
   ]
  }
 ],
 "metadata": {
  "kernelspec": {
   "display_name": "Python 3 (ipykernel)",
   "language": "python",
   "name": "python3"
  },
  "language_info": {
   "codemirror_mode": {
    "name": "ipython",
    "version": 3
   },
   "file_extension": ".py",
   "mimetype": "text/x-python",
   "name": "python",
   "nbconvert_exporter": "python",
   "pygments_lexer": "ipython3",
   "version": "3.13.1"
  }
 },
 "nbformat": 4,
 "nbformat_minor": 5
}
